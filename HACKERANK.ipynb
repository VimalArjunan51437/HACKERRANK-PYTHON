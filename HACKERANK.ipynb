{
 "cells": [
  {
   "cell_type": "markdown",
   "id": "b525d50f",
   "metadata": {},
   "source": [
    "# list comprehension"
   ]
  },
  {
   "cell_type": "code",
   "execution_count": null,
   "id": "9590ba02",
   "metadata": {},
   "outputs": [],
   "source": []
  },
  {
   "cell_type": "code",
   "execution_count": 4,
   "id": "a5030ff2",
   "metadata": {},
   "outputs": [
    {
     "name": "stdout",
     "output_type": "stream",
     "text": [
      "1\n",
      "1\n",
      "1\n",
      "2\n",
      "[[0, 0, 0], [0, 0, 1], [0, 1, 0], [1, 0, 0], [1, 1, 1]]\n"
     ]
    }
   ],
   "source": [
    "x = int(input())\n",
    "y = int(input())\n",
    "z = int(input())\n",
    "n = int(input())\n",
    "\n",
    "print([[a,b,c] for a in range(0,x+1) for b in range(0,y+1) for c in range(0,z+1) if(a+b+c)!=n])\n",
    "                "
   ]
  },
  {
   "cell_type": "markdown",
   "id": "0debd6c4",
   "metadata": {},
   "source": [
    "# find the runner up score"
   ]
  },
  {
   "cell_type": "code",
   "execution_count": 15,
   "id": "ba4eb9e5",
   "metadata": {},
   "outputs": [
    {
     "name": "stdout",
     "output_type": "stream",
     "text": [
      "8\n"
     ]
    }
   ],
   "source": [
    "a=[5,4,1,2,5,4,8,6,9,7,6]\n",
    "\n",
    "arr=[]\n",
    "\n",
    "for i in a:\n",
    "    if i not in arr:\n",
    "        arr.append(i)\n",
    "\n",
    "\n",
    "arr.sort()\n",
    "\n",
    "print(arr[-2])"
   ]
  },
  {
   "cell_type": "code",
   "execution_count": 11,
   "id": "cbdce320",
   "metadata": {},
   "outputs": [
    {
     "name": "stdout",
     "output_type": "stream",
     "text": [
      "[8, 7, 6, 5, 4, 3, 2, 1, 1]\n"
     ]
    }
   ],
   "source": [
    "a=[1,5,6,7,8,2,4,3,1]\n",
    "a.sort()\n",
    "b=a[::-1]\n",
    "print(b\n",
    "      \n",
    "-"
   ]
  },
  {
   "cell_type": "markdown",
   "id": "ba34167d",
   "metadata": {},
   "source": [
    "# NESTED LIST"
   ]
  },
  {
   "cell_type": "code",
   "execution_count": 23,
   "id": "63e50c22",
   "metadata": {},
   "outputs": [
    {
     "name": "stdout",
     "output_type": "stream",
     "text": [
      "5\n",
      "abc\n",
      "10\n",
      "bcd1\n",
      "15\n",
      "bcd2\n",
      "15\n",
      "bcd\n",
      "15\n",
      "bcd3\n",
      "15\n",
      "bcd\n",
      "bcd1\n",
      "bcd2\n",
      "bcd3\n"
     ]
    }
   ],
   "source": [
    "if __name__ == '__main__':\n",
    "    a={}\n",
    "    for _ in range(int(input())):\n",
    "        name = input()\n",
    "        score = float(input())\n",
    "        a[name] = score\n",
    "    \n",
    "    x=a.values()\n",
    "\n",
    "    y=sorted(list(set(x)))[1]\n",
    "    \n",
    "    last=[]\n",
    "    \n",
    "    for key,value in a.items():\n",
    "        if y == value:\n",
    "            last.append(key)\n",
    "    last.sort()\n",
    "    for x in last:\n",
    "        print(x)\n"
   ]
  },
  {
   "cell_type": "markdown",
   "id": "ef5823b6",
   "metadata": {},
   "source": [
    "#  FINDING THE PERCENTAGE"
   ]
  },
  {
   "cell_type": "code",
   "execution_count": 43,
   "id": "2bdd75f5",
   "metadata": {},
   "outputs": [
    {
     "name": "stdout",
     "output_type": "stream",
     "text": [
      "2\n",
      "vimal 100 200 300\n",
      "logu 1 2 3\n",
      "vimal\n",
      "dict_items([('vimal', [100.0, 200.0, 300.0]), ('logu', [1.0, 2.0, 3.0])])\n",
      "200.0\n"
     ]
    }
   ],
   "source": [
    "if __name__ == '__main__':\n",
    "    n = int(input())\n",
    "    s = {}\n",
    "    for _ in range(n):\n",
    "        name, *line = input().split()\n",
    "        scores = list(map(float, line))\n",
    "        s[name] = scores\n",
    "    q = input()\n",
    "#     print(s.items())\n",
    "    \n",
    "    for key,value in s.items():\n",
    "        if q == key:\n",
    "            a=sum(value)/len(value)\n",
    "            print(\"{:.2f}\".format(ans))\n",
    "            break\n",
    "#     print(a)"
   ]
  }
 ],
 "metadata": {
  "kernelspec": {
   "display_name": "Python 3",
   "language": "python",
   "name": "python3"
  },
  "language_info": {
   "codemirror_mode": {
    "name": "ipython",
    "version": 3
   },
   "file_extension": ".py",
   "mimetype": "text/x-python",
   "name": "python",
   "nbconvert_exporter": "python",
   "pygments_lexer": "ipython3",
   "version": "3.9.5"
  }
 },
 "nbformat": 4,
 "nbformat_minor": 5
}
